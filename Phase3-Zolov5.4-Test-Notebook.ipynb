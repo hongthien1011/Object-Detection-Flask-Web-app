{
 "cells": [
  {
   "cell_type": "code",
   "execution_count": 1,
   "id": "b69be164",
   "metadata": {},
   "outputs": [],
   "source": [
    "from ultralytics import YOLO"
   ]
  },
  {
   "cell_type": "code",
   "execution_count": 20,
   "id": "c899daf9",
   "metadata": {},
   "outputs": [],
   "source": [
    "path = r'D:\\Phase3\\TestData.original\\data.yaml'\n",
    "img_path = r'D:\\Phase3\\TestData.original\\test\\images'\n",
    "img_path1 = r'C:\\Users\\723040\\Downloads\\MicrosoftTeams-image (10).png'"
   ]
  },
  {
   "cell_type": "code",
   "execution_count": 16,
   "id": "7d5d53ee",
   "metadata": {},
   "outputs": [],
   "source": [
    "model = YOLO(r\"D:\\runs\\detect\\train\\weights\\best.pt\")"
   ]
  },
  {
   "cell_type": "code",
   "execution_count": 4,
   "id": "0ad6e815",
   "metadata": {},
   "outputs": [
    {
     "name": "stderr",
     "output_type": "stream",
     "text": [
      "Ultralytics YOLOv8.0.167  Python-3.9.17 torch-2.0.1 CUDA:0 (NVIDIA GeForce RTX 3060, 12288MiB)\n",
      "Model summary (fused): 218 layers, 25844392 parameters, 0 gradients\n",
      "\u001b[34m\u001b[1mval: \u001b[0mScanning D:\\Phase3\\TestData.original\\test\\labels... 97 images, 0 backgrounds, 0 corrupt: 100%|██████████| 97/97 [0\u001b[0m\n",
      "\u001b[34m\u001b[1mval: \u001b[0mNew cache created: D:\\Phase3\\TestData.original\\test\\labels.cache\n",
      "                 Class     Images  Instances      Box(P          R      mAP50  mAP50-95): 100%|██████████| 7/7 [00:02<0\n",
      "                   all         97       1298       0.92      0.878       0.93      0.652\n",
      "                 2door         97        101      0.985       0.97      0.994      0.686\n",
      "             baywindow         97          3          1      0.919      0.995       0.87\n",
      "                  door         97        658      0.977      0.984      0.991      0.717\n",
      "               window1         97         71      0.926      0.662      0.796      0.538\n",
      "               window2         97        436      0.855      0.752      0.801      0.472\n",
      "               window4         97         14      0.843      0.857      0.893      0.474\n",
      "               window5         97          9      0.933          1      0.995      0.768\n",
      "               window6         97          6       0.84      0.883      0.972      0.687\n",
      "Speed: 1.7ms preprocess, 13.4ms inference, 0.0ms loss, 4.1ms postprocess per image\n",
      "Results saved to \u001b[1mruns\\detect\\val5\u001b[0m\n"
     ]
    }
   ],
   "source": [
    "metrics = model.val(data=path)"
   ]
  },
  {
   "cell_type": "code",
   "execution_count": 21,
   "id": "87403bda",
   "metadata": {},
   "outputs": [
    {
     "name": "stderr",
     "output_type": "stream",
     "text": [
      "WARNING  'hide_labels' is deprecated and will be removed in 'ultralytics 8.2' in the future. Please use 'show_labels' instead.\n",
      "Results saved to \u001b[1mruns\\detect\\predict6\u001b[0m\n"
     ]
    },
    {
     "data": {
      "text/plain": [
       "[ultralytics.engine.results.Results object with attributes:\n",
       " \n",
       " boxes: ultralytics.engine.results.Boxes object\n",
       " keypoints: None\n",
       " masks: None\n",
       " names: {0: '2door', 1: 'baywindow', 2: 'door', 3: 'window1', 4: 'window2', 5: 'window4', 6: 'window5', 7: 'window6'}\n",
       " orig_img: array([[[ 42,  40,  38],\n",
       "         [168, 168, 168],\n",
       "         [168, 168, 168],\n",
       "         ...,\n",
       "         [168, 168, 168],\n",
       "         [168, 168, 168],\n",
       "         [168, 168, 168]],\n",
       " \n",
       "        [[ 49,  48,  45],\n",
       "         [200, 200, 200],\n",
       "         [200, 200, 200],\n",
       "         ...,\n",
       "         [200, 200, 200],\n",
       "         [200, 200, 200],\n",
       "         [200, 200, 200]],\n",
       " \n",
       "        [[ 55,  53,  50],\n",
       "         [222, 222, 222],\n",
       "         [222, 222, 222],\n",
       "         ...,\n",
       "         [222, 222, 222],\n",
       "         [222, 222, 222],\n",
       "         [222, 222, 222]],\n",
       " \n",
       "        ...,\n",
       " \n",
       "        [[ 63,  61,  58],\n",
       "         [255, 255, 255],\n",
       "         [255, 255, 255],\n",
       "         ...,\n",
       "         [255, 255, 255],\n",
       "         [255, 255, 255],\n",
       "         [255, 255, 255]],\n",
       " \n",
       "        [[ 63,  61,  58],\n",
       "         [255, 255, 255],\n",
       "         [255, 255, 255],\n",
       "         ...,\n",
       "         [255, 255, 255],\n",
       "         [255, 255, 255],\n",
       "         [255, 255, 255]],\n",
       " \n",
       "        [[ 63,  61,  58],\n",
       "         [255, 255, 255],\n",
       "         [255, 255, 255],\n",
       "         ...,\n",
       "         [255, 255, 255],\n",
       "         [255, 255, 255],\n",
       "         [255, 255, 255]]], dtype=uint8)\n",
       " orig_shape: (904, 719)\n",
       " path: 'C:\\\\Users\\\\723040\\\\Downloads\\\\MicrosoftTeams-image (10).png'\n",
       " probs: None\n",
       " save_dir: 'runs\\\\detect\\\\predict6'\n",
       " speed: {'preprocess': 0.0, 'inference': 15.59305191040039, 'postprocess': 0.0}]"
      ]
     },
     "execution_count": 21,
     "metadata": {},
     "output_type": "execute_result"
    }
   ],
   "source": [
    "model.predict(img_path1, conf=0.25, hide_labels=True, iou=0.3, save=True, verbose=False)"
   ]
  },
  {
   "cell_type": "code",
   "execution_count": null,
   "id": "c507780f",
   "metadata": {},
   "outputs": [],
   "source": []
  },
  {
   "cell_type": "code",
   "execution_count": 22,
   "id": "66f99e7e",
   "metadata": {},
   "outputs": [],
   "source": [
    "model = YOLO(r\"D:\\runs\\detect\\train2\\weights\\best.pt\")"
   ]
  },
  {
   "cell_type": "code",
   "execution_count": 11,
   "id": "0f42849a",
   "metadata": {},
   "outputs": [
    {
     "name": "stderr",
     "output_type": "stream",
     "text": [
      "Ultralytics YOLOv8.0.167  Python-3.9.17 torch-2.0.1 CUDA:0 (NVIDIA GeForce RTX 3060, 12288MiB)\n",
      "Model summary (fused): 218 layers, 25844392 parameters, 0 gradients\n",
      "\u001b[34m\u001b[1mval: \u001b[0mScanning D:\\Phase3\\TestData.original\\test\\labels.cache... 97 images, 0 backgrounds, 0 corrupt: 100%|██████████| 97\u001b[0m\n",
      "                 Class     Images  Instances      Box(P          R      mAP50  mAP50-95): 100%|██████████| 7/7 [00:02<0\n",
      "                   all         97       1298       0.98      0.909      0.957      0.737\n",
      "                 2door         97        101      0.998          1      0.995      0.796\n",
      "             baywindow         97          3      0.964          1      0.995      0.841\n",
      "                  door         97        658      0.995      0.986      0.995      0.792\n",
      "               window1         97         71      0.964      0.746      0.873      0.649\n",
      "               window2         97        436      0.957      0.769      0.892      0.593\n",
      "               window4         97         14      0.991      0.786      0.914      0.634\n",
      "               window5         97          9      0.973          1      0.995      0.813\n",
      "               window6         97          6          1      0.985      0.995      0.774\n",
      "Speed: 0.6ms preprocess, 12.1ms inference, 0.0ms loss, 3.0ms postprocess per image\n",
      "Results saved to \u001b[1mruns\\detect\\val6\u001b[0m\n"
     ]
    }
   ],
   "source": [
    "metrics = model.val(data=path)"
   ]
  },
  {
   "cell_type": "code",
   "execution_count": 23,
   "id": "eb90e4d0",
   "metadata": {},
   "outputs": [
    {
     "name": "stderr",
     "output_type": "stream",
     "text": [
      "WARNING  'hide_labels' is deprecated and will be removed in 'ultralytics 8.2' in the future. Please use 'show_labels' instead.\n",
      "Results saved to \u001b[1mruns\\detect\\predict7\u001b[0m\n"
     ]
    },
    {
     "data": {
      "text/plain": [
       "[ultralytics.engine.results.Results object with attributes:\n",
       " \n",
       " boxes: ultralytics.engine.results.Boxes object\n",
       " keypoints: None\n",
       " masks: None\n",
       " names: {0: '2door', 1: 'baywindow', 2: 'door', 3: 'window1', 4: 'window2', 5: 'window4', 6: 'window5', 7: 'window6'}\n",
       " orig_img: array([[[ 42,  40,  38],\n",
       "         [168, 168, 168],\n",
       "         [168, 168, 168],\n",
       "         ...,\n",
       "         [168, 168, 168],\n",
       "         [168, 168, 168],\n",
       "         [168, 168, 168]],\n",
       " \n",
       "        [[ 49,  48,  45],\n",
       "         [200, 200, 200],\n",
       "         [200, 200, 200],\n",
       "         ...,\n",
       "         [200, 200, 200],\n",
       "         [200, 200, 200],\n",
       "         [200, 200, 200]],\n",
       " \n",
       "        [[ 55,  53,  50],\n",
       "         [222, 222, 222],\n",
       "         [222, 222, 222],\n",
       "         ...,\n",
       "         [222, 222, 222],\n",
       "         [222, 222, 222],\n",
       "         [222, 222, 222]],\n",
       " \n",
       "        ...,\n",
       " \n",
       "        [[ 63,  61,  58],\n",
       "         [255, 255, 255],\n",
       "         [255, 255, 255],\n",
       "         ...,\n",
       "         [255, 255, 255],\n",
       "         [255, 255, 255],\n",
       "         [255, 255, 255]],\n",
       " \n",
       "        [[ 63,  61,  58],\n",
       "         [255, 255, 255],\n",
       "         [255, 255, 255],\n",
       "         ...,\n",
       "         [255, 255, 255],\n",
       "         [255, 255, 255],\n",
       "         [255, 255, 255]],\n",
       " \n",
       "        [[ 63,  61,  58],\n",
       "         [255, 255, 255],\n",
       "         [255, 255, 255],\n",
       "         ...,\n",
       "         [255, 255, 255],\n",
       "         [255, 255, 255],\n",
       "         [255, 255, 255]]], dtype=uint8)\n",
       " orig_shape: (904, 719)\n",
       " path: 'C:\\\\Users\\\\723040\\\\Downloads\\\\MicrosoftTeams-image (10).png'\n",
       " probs: None\n",
       " save_dir: 'runs\\\\detect\\\\predict7'\n",
       " speed: {'preprocess': 0.0, 'inference': 100.38065910339355, 'postprocess': 0.0}]"
      ]
     },
     "execution_count": 23,
     "metadata": {},
     "output_type": "execute_result"
    }
   ],
   "source": [
    "model.predict(img_path1, conf=0.25, hide_labels=True, iou=0.3, save=True, verbose=False)"
   ]
  },
  {
   "cell_type": "code",
   "execution_count": null,
   "id": "f7e76481",
   "metadata": {},
   "outputs": [],
   "source": []
  },
  {
   "cell_type": "code",
   "execution_count": 24,
   "id": "5e89d6e2",
   "metadata": {},
   "outputs": [],
   "source": [
    "model = YOLO(r\"D:\\runs\\detect\\train3\\weights\\best.pt\")"
   ]
  },
  {
   "cell_type": "code",
   "execution_count": 14,
   "id": "debad942",
   "metadata": {},
   "outputs": [
    {
     "name": "stderr",
     "output_type": "stream",
     "text": [
      "Ultralytics YOLOv8.0.167  Python-3.9.17 torch-2.0.1 CUDA:0 (NVIDIA GeForce RTX 3060, 12288MiB)\n",
      "Model summary (fused): 268 layers, 43612776 parameters, 0 gradients\n",
      "\u001b[34m\u001b[1mval: \u001b[0mScanning D:\\Phase3\\TestData.original\\test\\labels.cache... 97 images, 0 backgrounds, 0 corrupt: 100%|██████████| 97\u001b[0m\n",
      "                 Class     Images  Instances      Box(P          R      mAP50  mAP50-95): 100%|██████████| 7/7 [00:02<0\n",
      "                   all         97       1298      0.941      0.933      0.952      0.759\n",
      "                 2door         97        101      0.996          1      0.995      0.809\n",
      "             baywindow         97          3      0.973          1      0.995      0.893\n",
      "                  door         97        658       0.99      0.989      0.994      0.809\n",
      "               window1         97         71      0.965      0.775      0.868      0.676\n",
      "               window2         97        436      0.958      0.798      0.896       0.61\n",
      "               window4         97         14      0.863      0.904       0.88      0.656\n",
      "               window5         97          9       0.96          1      0.995      0.809\n",
      "               window6         97          6      0.822          1      0.995      0.812\n",
      "Speed: 0.5ms preprocess, 19.6ms inference, 0.0ms loss, 2.1ms postprocess per image\n",
      "Results saved to \u001b[1mruns\\detect\\val7\u001b[0m\n"
     ]
    }
   ],
   "source": [
    "metrics = model.val(data=path)"
   ]
  },
  {
   "cell_type": "code",
   "execution_count": 25,
   "id": "58e64688",
   "metadata": {},
   "outputs": [
    {
     "name": "stderr",
     "output_type": "stream",
     "text": [
      "WARNING  'hide_labels' is deprecated and will be removed in 'ultralytics 8.2' in the future. Please use 'show_labels' instead.\n",
      "Results saved to \u001b[1mruns\\detect\\predict8\u001b[0m\n"
     ]
    },
    {
     "data": {
      "text/plain": [
       "[ultralytics.engine.results.Results object with attributes:\n",
       " \n",
       " boxes: ultralytics.engine.results.Boxes object\n",
       " keypoints: None\n",
       " masks: None\n",
       " names: {0: '2door', 1: 'baywindow', 2: 'door', 3: 'window1', 4: 'window2', 5: 'window4', 6: 'window5', 7: 'window6'}\n",
       " orig_img: array([[[ 42,  40,  38],\n",
       "         [168, 168, 168],\n",
       "         [168, 168, 168],\n",
       "         ...,\n",
       "         [168, 168, 168],\n",
       "         [168, 168, 168],\n",
       "         [168, 168, 168]],\n",
       " \n",
       "        [[ 49,  48,  45],\n",
       "         [200, 200, 200],\n",
       "         [200, 200, 200],\n",
       "         ...,\n",
       "         [200, 200, 200],\n",
       "         [200, 200, 200],\n",
       "         [200, 200, 200]],\n",
       " \n",
       "        [[ 55,  53,  50],\n",
       "         [222, 222, 222],\n",
       "         [222, 222, 222],\n",
       "         ...,\n",
       "         [222, 222, 222],\n",
       "         [222, 222, 222],\n",
       "         [222, 222, 222]],\n",
       " \n",
       "        ...,\n",
       " \n",
       "        [[ 63,  61,  58],\n",
       "         [255, 255, 255],\n",
       "         [255, 255, 255],\n",
       "         ...,\n",
       "         [255, 255, 255],\n",
       "         [255, 255, 255],\n",
       "         [255, 255, 255]],\n",
       " \n",
       "        [[ 63,  61,  58],\n",
       "         [255, 255, 255],\n",
       "         [255, 255, 255],\n",
       "         ...,\n",
       "         [255, 255, 255],\n",
       "         [255, 255, 255],\n",
       "         [255, 255, 255]],\n",
       " \n",
       "        [[ 63,  61,  58],\n",
       "         [255, 255, 255],\n",
       "         [255, 255, 255],\n",
       "         ...,\n",
       "         [255, 255, 255],\n",
       "         [255, 255, 255],\n",
       "         [255, 255, 255]]], dtype=uint8)\n",
       " orig_shape: (904, 719)\n",
       " path: 'C:\\\\Users\\\\723040\\\\Downloads\\\\MicrosoftTeams-image (10).png'\n",
       " probs: None\n",
       " save_dir: 'runs\\\\detect\\\\predict8'\n",
       " speed: {'preprocess': 2.007722854614258, 'inference': 51.98955535888672, 'postprocess': 0.9996891021728516}]"
      ]
     },
     "execution_count": 25,
     "metadata": {},
     "output_type": "execute_result"
    }
   ],
   "source": [
    "model.predict(img_path1, conf=0.25, hide_labels=True, iou=0.3, save=True, verbose=False)"
   ]
  },
  {
   "cell_type": "code",
   "execution_count": null,
   "id": "34346d22",
   "metadata": {},
   "outputs": [],
   "source": []
  }
 ],
 "metadata": {
  "kernelspec": {
   "display_name": "Python 3 (ipykernel)",
   "language": "python",
   "name": "python3"
  },
  "language_info": {
   "codemirror_mode": {
    "name": "ipython",
    "version": 3
   },
   "file_extension": ".py",
   "mimetype": "text/x-python",
   "name": "python",
   "nbconvert_exporter": "python",
   "pygments_lexer": "ipython3",
   "version": "3.9.17"
  }
 },
 "nbformat": 4,
 "nbformat_minor": 5
}
