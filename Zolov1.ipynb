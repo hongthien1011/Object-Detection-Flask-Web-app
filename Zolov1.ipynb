{
 "cells": [
  {
   "cell_type": "code",
   "execution_count": 1,
   "id": "512d0529",
   "metadata": {},
   "outputs": [
    {
     "data": {
      "text/plain": [
       "True"
      ]
     },
     "execution_count": 1,
     "metadata": {},
     "output_type": "execute_result"
    }
   ],
   "source": [
    "import torch\n",
    "torch.cuda.is_available()"
   ]
  },
  {
   "cell_type": "code",
   "execution_count": 2,
   "id": "1354701d",
   "metadata": {},
   "outputs": [],
   "source": [
    "from ultralytics import YOLO"
   ]
  },
  {
   "cell_type": "code",
   "execution_count": 3,
   "id": "24f5c6ca",
   "metadata": {},
   "outputs": [],
   "source": [
    "model = YOLO(r\"D:\\runs\\detect\\zolov1_train\\weights\\best.pt\")"
   ]
  },
  {
   "cell_type": "code",
   "execution_count": 4,
   "id": "5ce0bb48",
   "metadata": {},
   "outputs": [],
   "source": [
    "# model.train(data=\"D:\\Floor_plan.v13i.yolov8\\data.yaml\", epochs=100, batch=-1)"
   ]
  },
  {
   "cell_type": "code",
   "execution_count": 5,
   "id": "ea883fdd",
   "metadata": {},
   "outputs": [],
   "source": [
    "# model.val()"
   ]
  },
  {
   "cell_type": "code",
   "execution_count": 6,
   "id": "8e412b7d",
   "metadata": {},
   "outputs": [],
   "source": [
    "# results = model(['12923.png'], save=True,save_conf=True,hide_labels=True,iou=0.3)  # return a generator of Results objects\n",
    "\n",
    "# # Process results generator\n",
    "# # for result in results:\n",
    "# #     boxes = result.boxes  # Boxes object for bbox outputs\n",
    "# #     masks = result.masks  # Masks object for segmentation masks outputs\n",
    "# #     keypoints = result.keypoints  # Keypoints object for pose outputs\n",
    "# #     probs = result.probs  # Class probabilities for classification outputs"
   ]
  },
  {
   "cell_type": "code",
   "execution_count": 14,
   "id": "e7511a29",
   "metadata": {},
   "outputs": [
    {
     "name": "stderr",
     "output_type": "stream",
     "text": [
      "\n",
      "0: 416x640 6 doors, 8 windows, 1: 416x640 1 2door, 8 doors, 1 window, 2: 416x640 16 doors, 3 windows, 3: 416x640 9 doors, 4: 416x640 1 2door, 8 doors, 1 window, 393.4ms\n",
      "Speed: 1.8ms preprocess, 78.7ms inference, 3.1ms postprocess per image at shape (1, 3, 416, 640)\n",
      "Results saved to \u001b[1mruns\\detect\\predict\u001b[0m\n"
     ]
    }
   ],
   "source": [
    "import os\n",
    "import random\n",
    "path = r\"D:\\FloorPlan Data\\test\"\n",
    "arr = os.listdir(path)\n",
    "if len(arr) > 20:\n",
    "    randomlist = random.sample(range(0, len(arr)), 10)\n",
    "else:\n",
    "    randomlist = range(0,len(arr))\n",
    "test_list = []\n",
    "\n",
    "for i in randomlist:\n",
    "    img = arr[i]\n",
    "    test_list.append(r'{}\\{}'.format(path,img))\n",
    "results = model(test_list, save=True,show_labels=True, iou = 0.8)"
   ]
  },
  {
   "cell_type": "code",
   "execution_count": null,
   "id": "ab7f373d",
   "metadata": {},
   "outputs": [],
   "source": [
    "# path = model.export(format=\"onnx\")"
   ]
  },
  {
   "cell_type": "code",
   "execution_count": null,
   "id": "a2666946",
   "metadata": {},
   "outputs": [],
   "source": []
  }
 ],
 "metadata": {
  "kernelspec": {
   "display_name": "Python 3 (ipykernel)",
   "language": "python",
   "name": "python3"
  },
  "language_info": {
   "codemirror_mode": {
    "name": "ipython",
    "version": 3
   },
   "file_extension": ".py",
   "mimetype": "text/x-python",
   "name": "python",
   "nbconvert_exporter": "python",
   "pygments_lexer": "ipython3",
   "version": "3.9.17"
  }
 },
 "nbformat": 4,
 "nbformat_minor": 5
}
