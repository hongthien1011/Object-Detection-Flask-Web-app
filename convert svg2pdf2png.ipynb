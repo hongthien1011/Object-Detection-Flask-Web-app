{
 "cells": [
  {
   "cell_type": "code",
   "execution_count": null,
   "id": "eb9aadbe",
   "metadata": {},
   "outputs": [],
   "source": [
    "# import aspose.pdf as pdf\n",
    "\n",
    "# # Initialize SvgLoadOptions class object\n",
    "# options = pdf.SvgLoadOptions()\n",
    "\n",
    "# # Create Document class object\n",
    "# document = pdf.Document(\"model.svg\" , options)\n",
    "\n",
    "# # Convert SVG to PDF\n",
    "# document.save(\"SVGtoPDF.pdf\")"
   ]
  },
  {
   "cell_type": "code",
   "execution_count": 3,
   "id": "3e8c67ce",
   "metadata": {},
   "outputs": [],
   "source": [
    "import os\n",
    "from PIL import Image\n",
    "import aspose.pdf as pdf\n",
    "\n",
    "yourpath = os.getcwd()\n",
    "i = 1\n",
    "for root, dirs, files in os.walk(yourpath, topdown=False):\n",
    "    for name in files:\n",
    "#         print(os.path.join(root, name))\n",
    "        if os.path.splitext(os.path.join(root, name))[1].lower() == \".svg\":\n",
    "            i += 1\n",
    "#             if os.path.isfile(os.path.splitext(os.path.join(root, name))[0] + \".jpg\"):\n",
    "#                 print(\"A jpeg file already exists for %s\" % name)\n",
    "#             # If a jpeg is *NOT* present, create one from the tiff.\n",
    "#             else:\n",
    "            outfile = os.path.splitext(os.path.join(root, name))[0] + \".svg\"\n",
    "#             print(os.path.splitext(os.path.join(root, name)))\n",
    "            try:\n",
    "                options = pdf.SvgLoadOptions()\n",
    "                document = pdf.Document(outfile, options)\n",
    "                document.save(\"%i.pdf\" % (i))          \n",
    "#                 im = Image.open(os.path.join(root, name))\n",
    "#                 print(\"Generating jpeg for %s\" % name)\n",
    "#                 im.thumbnail(im.size)\n",
    "#                 im.save(outfile, \"JPEG\", quality=100)\n",
    "            except Exception as e :\n",
    "                print(e)"
   ]
  },
  {
   "cell_type": "code",
   "execution_count": 4,
   "id": "1e981425",
   "metadata": {},
   "outputs": [],
   "source": [
    "import fitz\n",
    "# pages = convert_from_path('pdf_file', 500)\n",
    "# page.save('out.png', 'PNG')\n",
    "yourpath = os.getcwd()\n",
    "i = 0\n",
    "for root, dirs, files in os.walk(yourpath, topdown=False):\n",
    "    for name in files:\n",
    "        i += 1\n",
    "#         print(os.path.join(root, name))\n",
    "        if os.path.splitext(os.path.join(root, name))[1].lower() == \".pdf\":\n",
    "#             if os.path.isfile(os.path.splitext(os.path.join(root, name))[0] + \".jpg\"):\n",
    "#                 print(\"A jpeg file already exists for %s\" % name)\n",
    "#             # If a jpeg is *NOT* present, create one from the tiff.\n",
    "#             else:\n",
    "            outfile = os.path.splitext(os.path.join(root, name))[0] + \".pdf\"\n",
    "#             print(os.path.splitext(os.path.join(root, name)))\n",
    "            try:\n",
    "#                 options = pdf.SvgLoadOptions()\n",
    "#                 document = pdf.Document(outfile, options)\n",
    "#                 document.save(\"%i.pdf\" % (i)) \n",
    "                \n",
    "                doc = fitz.open(outfile)\n",
    "                page = doc.load_page(0)  # number of page\n",
    "                pix = page.get_pixmap()\n",
    "                pix.save(\"colorful%i.png\" % (i))\n",
    "                doc.close()\n",
    "                os.remove(outfile)\n",
    "#                 im = Image.open(os.path.join(root, name))\n",
    "#                 print(\"Generating jpeg for %s\" % name)\n",
    "#                 im.thumbnail(im.size)\n",
    "#                 im.save(outfile, \"JPEG\", quality=100)\n",
    "            except Exception as e :\n",
    "                print(e)"
   ]
  },
  {
   "cell_type": "code",
   "execution_count": null,
   "id": "a8046a51",
   "metadata": {},
   "outputs": [],
   "source": []
  }
 ],
 "metadata": {
  "kernelspec": {
   "display_name": "Python 3 (ipykernel)",
   "language": "python",
   "name": "python3"
  },
  "language_info": {
   "codemirror_mode": {
    "name": "ipython",
    "version": 3
   },
   "file_extension": ".py",
   "mimetype": "text/x-python",
   "name": "python",
   "nbconvert_exporter": "python",
   "pygments_lexer": "ipython3",
   "version": "3.11.3"
  }
 },
 "nbformat": 4,
 "nbformat_minor": 5
}
