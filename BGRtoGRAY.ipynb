{
 "cells": [
  {
   "cell_type": "code",
   "execution_count": 1,
   "id": "107f43e3",
   "metadata": {},
   "outputs": [
    {
     "name": "stdout",
     "output_type": "stream",
     "text": [
      "Image 209d6f3896b1a9f4ff1c6fd53cd9e788.jpg processed and saved.\n",
      "Image 2D-Floor-Plan-Images-Samples.jpg processed and saved.\n",
      "Image 2d-plattegrond-begane-grond.jpg processed and saved.\n",
      "Image 2D_Basic_Floor_Plan-1024x695.jpg processed and saved.\n",
      "Image 3.png processed and saved.\n",
      "Image 345171052.png processed and saved.\n",
      "Image 4605071b-3b7a-4891-bdc5-43975736c2ab.png processed and saved.\n",
      "Image 7-4.png processed and saved.\n",
      "Image 7.png processed and saved.\n",
      "Image 7e0e630383dce33a94cfc604dbb3026a.jpg processed and saved.\n",
      "Image building-drawing-plan-elevation-section-pdf-32.jpg processed and saved.\n",
      "Image comfort-plan-rovaniemi-loghouse-05.jpg processed and saved.\n",
      "Image file_13_jpg.rf.48376b6c7dd84dfd4c04b39aed84e0a0.jpg processed and saved.\n",
      "Image file_21_jpg.rf.b4acc0cf27fa655ecc1d159486fb5621.jpg processed and saved.\n",
      "Image file_37_jpg.rf.777125d82dadce7feaf8dd4e57a6631b.jpg processed and saved.\n",
      "Image file_57_png_jpg.rf.5cff405512e45bdc846cfac5d9d1810a.jpg processed and saved.\n",
      "Image file_71_png_jpg.rf.25ff6d679d9c3c94c804b718c122c575.jpg processed and saved.\n",
      "Image file_78_png_jpg.rf.e17e0a480212953a79c4940c3863b2da.jpg processed and saved.\n",
      "Image floorplans.png processed and saved.\n",
      "Image Ib_BN1701_sommaire_png_jpg.rf.1ecd10a2b6aea67be799bfc59e5f9a38.jpg processed and saved.\n",
      "Image IIa_GL0401.png processed and saved.\n",
      "Image IIa_GT0602.png processed and saved.\n",
      "Image IIa_SL0801_png_jpg.rf.b25207fd5378f823e9c6207abdcf0dac.jpg processed and saved.\n",
      "Image Image_1_1 (1).png processed and saved.\n",
      "Image Image_1_1 (14).jpg processed and saved.\n",
      "Image Image_1_1 (2).png processed and saved.\n",
      "Image Image_1_1 (4).jpg processed and saved.\n",
      "Image Image_1_1 (4).png processed and saved.\n",
      "Image image_2 (32).jpg processed and saved.\n",
      "Image Image_40.jpg processed and saved.\n",
      "Image Image_86.png processed and saved.\n",
      "Image Image_91.jpg processed and saved.\n",
      "Image Image_97.png processed and saved.\n",
      "Image juneau.jpg processed and saved.\n",
      "Image medium.jpg processed and saved.\n",
      "Image p1.jpg processed and saved.\n",
      "Image PNG.png processed and saved.\n",
      "Image scandinavia-floor-plan-rovaniemi-log-house-01.jpg processed and saved.\n",
      "Image scandinavia-with-pool-floor-plan-rovaniemi-log-house-01.jpg processed and saved.\n",
      "Image scandinavia-with-pool-floor-plan-rovaniemi-log-house-02.jpg processed and saved.\n",
      "Image simple-stylish-1024x991.png processed and saved.\n",
      "Image suomi-floor-plan-rovaniemi-log-house-01.jpg processed and saved.\n",
      "All images processed.\n"
     ]
    }
   ],
   "source": [
    "import os\n",
    "import cv2\n",
    "\n",
    "# Define the paths of the input and output folders\n",
    "input_folder = \"D:\\Phase2\\TestData\"\n",
    "output_folder = \"D:\\Phase2\\Gray\"\n",
    "\n",
    "# Create the \"Gray\" folder if it doesn't exist\n",
    "if not os.path.exists(output_folder):\n",
    "    os.makedirs(output_folder)\n",
    "\n",
    "# Get a list of all files in the input folder\n",
    "file_list = os.listdir(input_folder)\n",
    "\n",
    "# Loop through each file in the input folder\n",
    "for filename in file_list:\n",
    "    # Combine the input folder path with the filename\n",
    "    input_path = os.path.join(input_folder, filename)\n",
    "    \n",
    "    # Read the image using OpenCV\n",
    "    image = cv2.imread(input_path)\n",
    "    \n",
    "    # Check if the image was read successfully\n",
    "    if image is not None:\n",
    "        # Convert the image to grayscale\n",
    "        gray_image = cv2.cvtColor(image, cv2.COLOR_BGR2GRAY)\n",
    "        \n",
    "        # Get the output file path in the \"Gray\" folder\n",
    "        output_path = os.path.join(output_folder, filename)\n",
    "        \n",
    "        # Save the grayscale image\n",
    "        cv2.imwrite(output_path, gray_image)\n",
    "        print(f\"Image {filename} processed and saved.\")\n",
    "    else:\n",
    "        print(f\"Error reading image: {filename}\")\n",
    "\n",
    "print(\"All images processed.\")\n"
   ]
  },
  {
   "cell_type": "code",
   "execution_count": null,
   "id": "bb41fc5d",
   "metadata": {},
   "outputs": [],
   "source": []
  }
 ],
 "metadata": {
  "kernelspec": {
   "display_name": "Python 3 (ipykernel)",
   "language": "python",
   "name": "python3"
  },
  "language_info": {
   "codemirror_mode": {
    "name": "ipython",
    "version": 3
   },
   "file_extension": ".py",
   "mimetype": "text/x-python",
   "name": "python",
   "nbconvert_exporter": "python",
   "pygments_lexer": "ipython3",
   "version": "3.9.17"
  }
 },
 "nbformat": 4,
 "nbformat_minor": 5
}
